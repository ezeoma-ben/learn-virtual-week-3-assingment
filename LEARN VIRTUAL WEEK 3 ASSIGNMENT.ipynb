{
 "cells": [
  {
   "cell_type": "code",
   "execution_count": 4,
   "metadata": {},
   "outputs": [
    {
     "name": "stdout",
     "output_type": "stream",
     "text": [
      "1000:1000\n",
      "2:2\n",
      "3:3\n",
      "60.0\n",
      "60.0\n"
     ]
    }
   ],
   "source": [
    "# A program for simple interest\n",
    "principal = float(input(\"1000:\"))\n",
    "rate = int(input(\"2:\"))\n",
    "time = int(input(\"3:\"))\n",
    "I = (principal*rate*time)/100\n",
    "print(I)\n",
    "print(round(I,2))"
   ]
  },
  {
   "cell_type": "code",
   "execution_count": 5,
   "metadata": {},
   "outputs": [
    {
     "name": "stdout",
     "output_type": "stream",
     "text": [
      "7:7\n",
      "9:9\n",
      "31.5\n"
     ]
    }
   ],
   "source": [
    "# A program for area of a triangle\n",
    "base = int(input(\"7:\"))\n",
    "height = int(input(\"9:\"))\n",
    "Area = 1/2*base*height\n",
    "print(Area)"
   ]
  },
  {
   "cell_type": "code",
   "execution_count": 6,
   "metadata": {},
   "outputs": [
    {
     "name": "stdout",
     "output_type": "stream",
     "text": [
      "7:7\n",
      "9:9\n",
      "63\n"
     ]
    }
   ],
   "source": [
    "# A program for area of a rectangle\n",
    "width = int(input(\"7:\"))\n",
    "height = int(input(\"9:\"))\n",
    "Area = width*height\n",
    "print(Area)"
   ]
  },
  {
   "cell_type": "code",
   "execution_count": 8,
   "metadata": {},
   "outputs": [
    {
     "name": "stdout",
     "output_type": "stream",
     "text": [
      "what day is it today: ?saturday\n",
      "get up and go to work\n"
     ]
    }
   ],
   "source": [
    "# program for daily activity\n",
    "weekday = [\"monday\",\"tuesday\",\"wednessday\",\"thursday\",\"friday\"]\n",
    "weekend = [\"saturday\",\"sunday\"]\n",
    "day = input(\"what day is it today: ?\")\n",
    "if day is weekend:\n",
    "    print(\"go and watch a movie\")\n",
    "else:\n",
    "    print(\"get up and go to work\")"
   ]
  },
  {
   "cell_type": "code",
   "execution_count": 11,
   "metadata": {},
   "outputs": [
    {
     "name": "stdout",
     "output_type": "stream",
     "text": [
      "Ezeoma\n",
      "Benjamin\n",
      "Igwe\n"
     ]
    }
   ],
   "source": [
    "# Loop iterating through a dictionary\n",
    "bio = {\"first name\":\"Ezeoma\",\"middle name\":\"Benjamin\",\"surname\":\"Igwe\"}\n",
    "for k in bio:\n",
    "    print(bio[k])"
   ]
  },
  {
   "cell_type": "code",
   "execution_count": 12,
   "metadata": {},
   "outputs": [
    {
     "name": "stdout",
     "output_type": "stream",
     "text": [
      "B\n",
      "e\n",
      "n\n",
      "j\n",
      "a\n",
      "m\n",
      "i\n",
      "n\n"
     ]
    }
   ],
   "source": [
    "#Loop iterating through a string\n",
    "for t in (\"Benjamin\"):\n",
    "    print(t)"
   ]
  },
  {
   "cell_type": "code",
   "execution_count": 14,
   "metadata": {},
   "outputs": [
    {
     "name": "stdout",
     "output_type": "stream",
     "text": [
      "Hello, welcome to KIZZY LICKING PLATES RESTAURANT! What can we offer you?\n",
      "Franca:Franca\n",
      "We are glad to have you, Franca\n",
      "We have a lot of special delicacies for you\n",
      "Please can have a look, order your meal and enjoy the best?\n",
      "Here is the list of our delicacies \n",
      "(a) African Jellof rice \n",
      "(b) Fried rice \n",
      "(c) White rice with goat meat sauce \n",
      "(d) White rice with fresh fish sauceAfrican Jellof rice\n",
      "Sorry, would you like another list of menu?\n"
     ]
    }
   ],
   "source": [
    "# Creating a restaurant menu\n",
    "print(\"Hello, welcome to KIZZY LICKING PLATES RESTAURANT! What can we offer you?\")\n",
    "name = input(\"Franca:\")\n",
    "print(\"We are glad to have you, Franca\")\n",
    "print(\"We have a lot of special delicacies for you\")\n",
    "print(\"Please can have a look, order your meal and enjoy the best?\")\n",
    "menu1 = input(\"Here is the list of our delicacies \\n(a) African Jellof rice \\n(b) Fried rice \\n(c) White rice with goat meat sauce \\n(d) White rice with fresh fish sauce\")\n",
    "if(menu1.lower ()==\"a\"):\n",
    "    print(\"Wow! Amazing\")\n",
    "elif(menu1.lower ()==\"b\"):\n",
    "    print(\"Very good\")\n",
    "elif(menu1.lower ()== \"c\"):\n",
    "    print(\"Looks interesting\")\n",
    "elif(menu1.lower ()==\"d\"):\n",
    "    print(\"sounds delicious\")\n",
    "else:\n",
    "    print(\"Sorry, would you like another list of menu?\")"
   ]
  },
  {
   "cell_type": "code",
   "execution_count": null,
   "metadata": {},
   "outputs": [],
   "source": [
    "# Creating an ATM Machine\n",
    "print(\"Insert your ATM Card\")\n",
    "name = input(\"Benjamin:\")\n",
    "print(\"Welcome Benjamin\")\n",
    "print(\"enter your password\")\n",
    "password = input(\"xxxx:\")\n",
    "if password is (\"xxxx\"):\n",
    "    print(\"go to select\")\n",
    "else:\n",
    "    print(\"re-enter password\")\n",
    "select1 = input(\"Here is the list of transactions \\n(a)check balance \\n(b)withdrawal \\n(c)transfer \\n(d)recharge \\n(e)none of the above \\n\")\n",
    "if(select1 ()==\"a\"):\n",
    "    print(\"check balance\")\n",
    "elif(select1 ()==\"b\"):\n",
    "    print(\"withdrawal\")\n",
    "elif(select1 ()==\"c\"):\n",
    "    print(\"transfer\")\n",
    "elif(select1 ()==\"d\"):\n",
    "    print(\"recharge\")\n",
    "elif(select1 ()==\"e\"):\n",
    "    print(\"none of the above\")\n",
    "else:\n",
    "    print(\"end transaction\")\n"
   ]
  }
 ],
 "metadata": {
  "kernelspec": {
   "display_name": "Python 3",
   "language": "python",
   "name": "python3"
  },
  "language_info": {
   "codemirror_mode": {
    "name": "ipython",
    "version": 3
   },
   "file_extension": ".py",
   "mimetype": "text/x-python",
   "name": "python",
   "nbconvert_exporter": "python",
   "pygments_lexer": "ipython3",
   "version": "3.7.4"
  }
 },
 "nbformat": 4,
 "nbformat_minor": 2
}
